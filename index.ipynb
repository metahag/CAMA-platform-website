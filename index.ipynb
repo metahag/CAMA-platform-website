{
  "cells": [
    {
      "cell_type": "raw",
      "metadata": {},
      "source": [
        "---\n",
        "title: CAMA Platform for educational interventions\n",
        "---"
      ],
      "id": "d5746cc4"
    },
    {
      "cell_type": "markdown",
      "metadata": {},
      "source": [
        "```{=html}\n",
        "<style>\n",
        "  body {\n",
        "  background-image: url(\"images/landing_page.svg\");\n",
        "  background-size: cover;\n",
        "  background-repeat: no-repeat;\n",
        "}\n",
        "\n",
        "\n",
        "```\n",
        "\n",
        "```{css, echo=FALSE}\n",
        ".title {\n",
        "  font-size: 100px;\n",
        "  font-style: italic;\n",
        "  color: white;\n",
        "  font-family: Arial;\n",
        "  font-variant: small-caps;\n",
        "}\n",
        "```"
      ],
      "id": "fa08344e"
    }
  ],
  "metadata": {
    "kernelspec": {
      "display_name": "Python 3",
      "language": "python",
      "name": "python3"
    }
  },
  "nbformat": 4,
  "nbformat_minor": 5
}